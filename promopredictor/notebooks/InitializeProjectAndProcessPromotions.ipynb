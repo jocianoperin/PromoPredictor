{
 "cells": [
  {
   "cell_type": "code",
   "execution_count": null,
   "metadata": {},
   "outputs": [],
   "source": [
    "# Importando bibliotecas necessárias\n",
    "import pandas as pd\n",
    "import numpy as np\n",
    "import matplotlib.pyplot as plt\n",
    "%matplotlib inline\n",
    "\n",
    "# Configurando logs\n",
    "import logging\n",
    "\n",
    "logging.basicConfig(\n",
    "    level=logging.INFO,\n",
    "    format=\"%(asctime)s [%(levelname)s] %(message)s\",\n",
    "    handlers=[\n",
    "        logging.FileHandler(\"debug.log\"),\n",
    "        logging.StreamHandler()\n",
    "    ]\n",
    ")\n",
    "\n",
    "# Importando funções do projeto\n",
    "from src.services.database_connection import get_db_connection\n",
    "from src.data.create_tables import create_table_if_not_exists\n",
    "from src.data.data_cleaner import delete_data, update_data, clean_null_values, remove_duplicates, remove_invalid_records, standardize_formatting\n",
    "from src.data.index_manager import create_indexes\n",
    "from src.data.promotion_processor import fetch_all_products, process_chunks\n",
    "from src.data.promotion_sales_processor import process_promotions_in_chunks\n",
    "from src.data.outlier_treatment import identify_and_treat_outliers\n",
    "from src.data.data_conversion import convert_data_types\n",
    "from src.data.data_exploration import explore_data\n",
    "from src.models.train_model import train_model\n",
    "from src.models.predict_model import make_prediction\n",
    "from src.services.database_reset import drop_tables"
   ]
  },
  {
   "cell_type": "code",
   "execution_count": null,
   "metadata": {},
   "outputs": [],
   "source": [
    "# Conectando ao banco de dados\n",
    "connection = get_db_connection()"
   ]
  },
  {
   "cell_type": "code",
   "execution_count": null,
   "metadata": {},
   "outputs": [],
   "source": [
    "# Configurando o banco de dados\n",
    "drop_tables()\n",
    "create_table_if_not_exists()\n",
    "configure_indexes()"
   ]
  },
  {
   "cell_type": "code",
   "execution_count": null,
   "metadata": {},
   "outputs": [],
   "source": [
    "# Limpeza de dados\n",
    "clean_data()"
   ]
  },
  {
   "cell_type": "code",
   "execution_count": null,
   "metadata": {},
   "outputs": [],
   "source": [
    "# Processamento de dados\n",
    "process_data()"
   ]
  },
  {
   "cell_type": "code",
   "execution_count": null,
   "metadata": {},
   "outputs": [],
   "source": [
    "# Explorando os dados\n",
    "vendasexport = pd.read_sql_query(\"SELECT * FROM vendasexport\", connection)\n",
    "vendasprodutosexport = pd.read_sql_query(\"SELECT * FROM vendasprodutosexport\", connection)\n",
    "\n",
    "# Visualizações e análises exploratórias\n",
    "explore_data(vendasexport)\n",
    "explore_data(vendasprodutosexport)"
   ]
  },
  {
   "cell_type": "code",
   "execution_count": null,
   "metadata": {},
   "outputs": [],
   "source": [
    "# Processamento de promoções\n",
    "process_promotions()"
   ]
  },
  {
   "cell_type": "code",
   "execution_count": null,
   "metadata": {},
   "outputs": [],
   "source": [
    "# Treinamento do modelo\n",
    "train_model()"
   ]
  },
  {
   "cell_type": "code",
   "execution_count": null,
   "metadata": {},
   "outputs": [],
   "source": [
    "# Predição de teste\n",
    "make_prediction()"
   ]
  }
 ],
 "metadata": {
  "kernelspec": {
   "display_name": "promopredictor",
   "language": "python",
   "name": "python3"
  },
  "language_info": {
   "codemirror_mode": {
    "name": "ipython",
    "version": 3
   },
   "file_extension": ".py",
   "mimetype": "text/x-python",
   "name": "python",
   "nbconvert_exporter": "python",
   "pygments_lexer": "ipython3",
   "version": "3.11.8"
  }
 },
 "nbformat": 4,
 "nbformat_minor": 2
}
