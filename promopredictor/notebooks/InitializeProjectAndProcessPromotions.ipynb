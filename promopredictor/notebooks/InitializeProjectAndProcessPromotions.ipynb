{
 "cells": [
  {
   "cell_type": "markdown",
   "metadata": {},
   "source": [
    "# Documentação do Notebook\n",
    "\n",
    "Este notebook documenta a execução de queries SQL usando o `DatabaseManager` personalizado para interagir com um banco de dados SQL. Ele inclui funções para lidar com chaves primárias, colunas e a remoção de duplicatas de tabelas."
   ]
  },
  {
   "cell_type": "code",
   "execution_count": null,
   "metadata": {},
   "outputs": [],
   "source": [
    "from sqlalchemy import create_engine, text\n",
    "from sqlalchemy.orm import sessionmaker\n",
    "from sqlalchemy.exc import SQLAlchemyError\n",
    "from mysql.connector import connect, Error as MySQLError\n",
    "import threading\n",
    "import logging\n",
    "from pathlib import Path"
   ]
  },
  {
   "cell_type": "markdown",
   "metadata": {},
   "source": [
    "# Configuração do Logger"
   ]
  },
  {
   "cell_type": "code",
   "execution_count": null,
   "metadata": {},
   "outputs": [],
   "source": [
    "def setup_logger():\n",
    "    logger = logging.getLogger(__name__)\n",
    "    logger.setLevel(logging.INFO)\n",
    "\n",
    "    # Define o caminho absoluto para a pasta de logs na raiz do projeto\n",
    "    logs_path = Path.cwd() / 'logs'\n",
    "    logs_path.mkdir(parents=True, exist_ok=True)\n",
    "\n",
    "    # Configuração do handler de arquivo de log\n",
    "    file_handler = logging.FileHandler(logs_path / 'app.log')\n",
    "    file_handler.setFormatter(logging.Formatter('%(asctime)s - %(name)s - %(levelname)s - %(message)s'))\n",
    "\n",
    "    logger.addHandler(file_handler)\n",
    "    return logger\n",
    "\n",
    "logger = setup_logger()\n"
   ]
  },
  {
   "cell_type": "markdown",
   "metadata": {},
   "source": [
    "# Definição do DatabaseManager"
   ]
  },
  {
   "cell_type": "code",
   "execution_count": null,
   "metadata": {},
   "outputs": [],
   "source": [
    "class DatabaseManager:\n",
    "    \"\"\"\n",
    "    Gerencia as operações de banco de dados usando SQLAlchemy ou MySQL Connector,\n",
    "    dependendo da configuração escolhida.\n",
    "    \"\"\"\n",
    "    def __init__(self, use_sqlalchemy=False):\n",
    "        \"\"\"\n",
    "        Inicializa o DatabaseManager com a opção de usar SQLAlchemy ou MySQL Connector.\n",
    "        Args:\n",
    "            use_sqlalchemy (bool): Define se SQLAlchemy será usado para as operações de banco de dados.\n",
    "        \"\"\"\n",
    "        self.use_sqlalchemy = use_sqlalchemy\n",
    "        if self.use_sqlalchemy:\n",
    "            self.connection_string = \"mysql+mysqlconnector://root:1@localhost/atena\"\n",
    "            self.engine = create_engine(self.connection_string, echo=False)\n",
    "            self.Session = sessionmaker(bind=self.engine)\n",
    "        else:\n",
    "            self.connection_params = {\n",
    "                'host': 'localhost',\n",
    "                'user': 'root',\n",
    "                'password': '1',\n",
    "                'database': 'atena'\n",
    "            }\n",
    "\n",
    "    def execute_query(self, query, params=None):\n",
    "        \"\"\"\n",
    "        Executa uma consulta SQL no banco de dados configurado.\n",
    "\n",
    "        Args:\n",
    "            query (str): Consulta SQL a ser executada.\n",
    "            params (dict, optional): Parâmetros para a consulta SQL.\n",
    "\n",
    "        Returns:\n",
    "            Retorna os resultados da consulta para consultas SELECT ou o número de linhas afetadas para outras consultas.\n",
    "        \"\"\"\n",
    "        with lock:\n",
    "            if self.use_sqlalchemy:\n",
    "                session = self.Session()\n",
    "                try:\n",
    "                    with session.begin():\n",
    "                        result = session.execute(text(query), params)\n",
    "                        if query.strip().lower().startswith('select'):\n",
    "                            # Para SELECT, retorna uma lista de tuplas\n",
    "                            data = [row for row in result.fetchall()]\n",
    "                            logger.info(f\"Query SELECT retornou {len(data)} linhas.\")\n",
    "                            return data\n",
    "                        else:\n",
    "                            # Para non-SELECT, retorna o número de linhas afetadas\n",
    "                            rows_affected = result.rowcount\n",
    "                            logger.info(f\"Query non-SELECT afetou {rows_affected} linhas. Veja: {result}.\")\n",
    "                            return rows_affected\n",
    "                except SQLAlchemyError as e:\n",
    "                    logger.error(f\"Erro ao executar query com SQLAlchemy: {e}\")\n",
    "                    session.rollback()\n",
    "                finally:\n",
    "                    session.close()\n",
    "            else:\n",
    "                connection = connect(**self.connection_params, buffered=True)\n",
    "                cursor = connection.cursor()\n",
    "                try:\n",
    "                    cursor.execute(query, params)\n",
    "                    if query.strip().lower().startswith(\"select\"):\n",
    "                        # Para SELECT, retorna uma lista de tuplas\n",
    "                        data = cursor.fetchall()\n",
    "                        logger.info(f\"Query SELECT retornou {len(data)} linhas.\")\n",
    "                        return data\n",
    "                    else:\n",
    "                        # Para non-SELECT, confirma a transação e retorna o número de linhas afetadas\n",
    "                        rows_affected = cursor.rowcount\n",
    "                        connection.commit()\n",
    "                        logger.info(f\"Query non-SELECT afetou {rows_affected} linhas. Veja: {result}.\")\n",
    "                        return rows_affected\n",
    "                except MySQLError as e:\n",
    "                    logger.error(f\"Erro ao executar query com MySQL Connector: {e}\")\n",
    "                    connection.rollback()\n",
    "                finally:\n",
    "                    cursor.close()\n",
    "                    connection.close()"
   ]
  },
  {
   "cell_type": "markdown",
   "metadata": {},
   "source": [
    "# Testes de Execução"
   ]
  },
  {
   "cell_type": "code",
   "execution_count": null,
   "metadata": {},
   "outputs": [],
   "source": [
    "db_manager = DatabaseManager(use_sqlalchemy=True)\n",
    "\n",
    "# Testando obter as chaves primárias de uma tabela\n",
    "primary_keys = get_primary_key_columns('vendasexport')\n",
    "logger.info(f\"Chaves primárias da tabela 'vendasexport': {primary_keys}\")\n",
    "\n",
    "# Testando obter todas as colunas de uma tabela\n",
    "columns = get_all_columns('vendasexport')\n",
    "logger.info(f\"Colunas da tabela 'vendasexport': {columns}\")"
   ]
  }
 ],
 "metadata": {
  "kernelspec": {
   "display_name": "promopredictor",
   "language": "python",
   "name": "python3"
  },
  "language_info": {
   "codemirror_mode": {
    "name": "ipython",
    "version": 3
   },
   "file_extension": ".py",
   "mimetype": "text/x-python",
   "name": "python",
   "nbconvert_exporter": "python",
   "pygments_lexer": "ipython3",
   "version": "3.11.8"
  }
 },
 "nbformat": 4,
 "nbformat_minor": 2
}
