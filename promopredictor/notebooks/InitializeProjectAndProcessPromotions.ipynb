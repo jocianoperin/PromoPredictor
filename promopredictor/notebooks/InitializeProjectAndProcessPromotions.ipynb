{
 "cells": [
  {
   "cell_type": "code",
   "execution_count": 3,
   "metadata": {},
   "outputs": [
    {
     "ename": "ModuleNotFoundError",
     "evalue": "No module named 'src'",
     "output_type": "error",
     "traceback": [
      "\u001b[0;31m---------------------------------------------------------------------------\u001b[0m",
      "\u001b[0;31mModuleNotFoundError\u001b[0m                       Traceback (most recent call last)",
      "Cell \u001b[0;32mIn[3], line 5\u001b[0m\n\u001b[1;32m      2\u001b[0m \u001b[38;5;28;01mimport\u001b[39;00m \u001b[38;5;21;01msys\u001b[39;00m\n\u001b[1;32m      3\u001b[0m sys\u001b[38;5;241m.\u001b[39mpath\u001b[38;5;241m.\u001b[39mappend(\u001b[38;5;124m\"\u001b[39m\u001b[38;5;124m../src/\u001b[39m\u001b[38;5;124m\"\u001b[39m)  \u001b[38;5;66;03m# Ajuste o caminho conforme necessário\u001b[39;00m\n\u001b[0;32m----> 5\u001b[0m \u001b[38;5;28;01mfrom\u001b[39;00m \u001b[38;5;21;01mdata\u001b[39;00m\u001b[38;5;21;01m.\u001b[39;00m\u001b[38;5;21;01mcreate_tables\u001b[39;00m \u001b[38;5;28;01mimport\u001b[39;00m create_table_if_not_exists\n\u001b[1;32m      6\u001b[0m \u001b[38;5;28;01mfrom\u001b[39;00m \u001b[38;5;21;01mdata\u001b[39;00m\u001b[38;5;21;01m.\u001b[39;00m\u001b[38;5;21;01mdata_cleaner\u001b[39;00m \u001b[38;5;28;01mimport\u001b[39;00m delete_data\n\u001b[1;32m      7\u001b[0m \u001b[38;5;28;01mfrom\u001b[39;00m \u001b[38;5;21;01mdata\u001b[39;00m\u001b[38;5;21;01m.\u001b[39;00m\u001b[38;5;21;01mindex_manager\u001b[39;00m \u001b[38;5;28;01mimport\u001b[39;00m create_indexes\n",
      "File \u001b[0;32m~/Projects/PromoPredictor/promopredictor/notebooks/../src/data/create_tables.py:2\u001b[0m\n\u001b[1;32m      1\u001b[0m \u001b[38;5;66;03m# src/data/create_tables.py\u001b[39;00m\n\u001b[0;32m----> 2\u001b[0m \u001b[38;5;28;01mfrom\u001b[39;00m \u001b[38;5;21;01msrc\u001b[39;00m\u001b[38;5;21;01m.\u001b[39;00m\u001b[38;5;21;01mservices\u001b[39;00m\u001b[38;5;21;01m.\u001b[39;00m\u001b[38;5;21;01mdatabase_connection\u001b[39;00m \u001b[38;5;28;01mimport\u001b[39;00m get_db_connection\n\u001b[1;32m      3\u001b[0m \u001b[38;5;28;01mfrom\u001b[39;00m \u001b[38;5;21;01msrc\u001b[39;00m\u001b[38;5;21;01m.\u001b[39;00m\u001b[38;5;21;01mutils\u001b[39;00m\u001b[38;5;21;01m.\u001b[39;00m\u001b[38;5;21;01mlogging_config\u001b[39;00m \u001b[38;5;28;01mimport\u001b[39;00m get_logger\n\u001b[1;32m      5\u001b[0m logger \u001b[38;5;241m=\u001b[39m get_logger(\u001b[38;5;18m__name__\u001b[39m)\n",
      "\u001b[0;31mModuleNotFoundError\u001b[0m: No module named 'src'"
     ]
    }
   ],
   "source": [
    "# Célula 1: Configurações e Importações\n",
    "import sys\n",
    "sys.path.append(\"../src\")  # Ajuste o caminho conforme necessário\n",
    "\n",
    "from data.create_tables import create_table_if_not_exists\n",
    "from data.data_cleaner import delete_data\n",
    "from data.index_manager import create_indexes\n",
    "from data.promotion_processor import fetch_all_products, process_chunks\n",
    "from data.promotion_sales_processor import process_promotions_in_chunks\n",
    "from utils.logging_config import get_logger\n",
    "\n",
    "logger = get_logger(__name__)"
   ]
  },
  {
   "cell_type": "code",
   "execution_count": null,
   "metadata": {},
   "outputs": [],
   "source": [
    "# Célula 2: Definição das Funções do Main.py Refatoradas para Uso no Notebook\n",
    "def initialize_database():\n",
    "    logger.info(\"Criando tabelas, se não existirem...\")\n",
    "    create_table_if_not_exists()\n",
    "\n",
    "def clean_database_tables():\n",
    "    logger.info(\"Iniciando a limpeza de dados nas tabelas...\")\n",
    "    delete_data(\"vendasprodutosexport\", \"ValorTotal <= 0 OR Quantidade <= 0\")\n",
    "    delete_data(\"vendasexport\", \"TotalPedido <= 0\")\n",
    "\n",
    "def create_database_indexes():\n",
    "    logger.info(\"Iniciando o processo de criação de índices.\")\n",
    "    # Exemplo simplificado, detalhes omitidos por brevidade\n",
    "    create_indexes([])  # Adicione detalhes conforme necessário\n",
    "\n",
    "def process_products_and_promotions():\n",
    "    logger.info(\"Buscando produtos para processamento de promoções...\")\n",
    "    products = fetch_all_products()\n",
    "    if products:\n",
    "        logger.info(\"Processando produtos para identificação de promoções...\")\n",
    "        # Exemplo simplificado, detalhes omitidos por brevidade\n",
    "        process_chunks(products)\n",
    "\n",
    "    logger.info(\"Processando promoções para cálculo dos indicadores de vendas...\")\n",
    "    process_promotions_in_chunks()"
   ]
  },
  {
   "cell_type": "code",
   "execution_count": null,
   "metadata": {},
   "outputs": [],
   "source": [
    "# Célula 3: Execução do Processo\n",
    "def main():\n",
    "    try:\n",
    "        logger.info(\"Iniciando o processo de inicialização do projeto no Notebook.\")\n",
    "        initialize_database()\n",
    "        clean_database_tables()\n",
    "        create_database_indexes()\n",
    "        process_products_and_promotions()\n",
    "        logger.info(\"Processo no Notebook concluído com sucesso.\")\n",
    "    except Exception as e:\n",
    "        logger.error(f\"Erro durante o processo no Notebook: {e}\")\n",
    "\n",
    "# Execute o processo principal\n",
    "main()"
   ]
  }
 ],
 "metadata": {
  "kernelspec": {
   "display_name": "promopredictor",
   "language": "python",
   "name": "python3"
  },
  "language_info": {
   "codemirror_mode": {
    "name": "ipython",
    "version": 3
   },
   "file_extension": ".py",
   "mimetype": "text/x-python",
   "name": "python",
   "nbconvert_exporter": "python",
   "pygments_lexer": "ipython3",
   "version": "3.11.8"
  }
 },
 "nbformat": 4,
 "nbformat_minor": 2
}
