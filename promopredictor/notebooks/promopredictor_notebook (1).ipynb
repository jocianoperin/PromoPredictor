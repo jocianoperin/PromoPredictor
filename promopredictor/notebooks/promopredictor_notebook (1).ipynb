{
 "cells": [
  {
   "cell_type": "markdown",
   "id": "75d5a97f",
   "metadata": {},
   "source": [
    "# Projeto Data Science e IA\n",
    "Este notebook foi gerado automaticamente para integrar o projeto Python com todas as dependências e funcionalidades necessárias para executar diretamente em um ambiente Jupyter.\n"
   ]
  },
  {
   "cell_type": "code",
   "execution_count": 7,
   "id": "5947b254",
   "metadata": {},
   "outputs": [
    {
     "name": "stdout",
     "output_type": "stream",
     "text": [
      "Requirement already satisfied: mysql.connector in /home/jociano/anaconda3/envs/promopredictor/lib/python3.11/site-packages (2.2.9)\n",
      "Requirement already satisfied: mysql-connector-python in /home/jociano/anaconda3/envs/promopredictor/lib/python3.11/site-packages (8.3.0)\n",
      "Requirement already satisfied: sqlalchemy in /home/jociano/anaconda3/envs/promopredictor/lib/python3.11/site-packages (2.0.29)\n",
      "Requirement already satisfied: Flask in /home/jociano/anaconda3/envs/promopredictor/lib/python3.11/site-packages (3.0.2)\n",
      "Requirement already satisfied: pandas in /home/jociano/anaconda3/envs/promopredictor/lib/python3.11/site-packages (2.2.2)\n",
      "Requirement already satisfied: joblib in /home/jociano/anaconda3/envs/promopredictor/lib/python3.11/site-packages (1.4.0)\n",
      "Requirement already satisfied: numpy in /home/jociano/anaconda3/envs/promopredictor/lib/python3.11/site-packages (1.26.4)\n",
      "Requirement already satisfied: scikit-learn in /home/jociano/anaconda3/envs/promopredictor/lib/python3.11/site-packages (1.4.2)\n",
      "Requirement already satisfied: pmdarima in /home/jociano/anaconda3/envs/promopredictor/lib/python3.11/site-packages (2.0.4)\n",
      "Requirement already satisfied: statsmodels in /home/jociano/anaconda3/envs/promopredictor/lib/python3.11/site-packages (0.14.0)\n",
      "Requirement already satisfied: threadpoolctl in /home/jociano/anaconda3/envs/promopredictor/lib/python3.11/site-packages (3.4.0)\n",
      "Requirement already satisfied: typing-extensions>=4.6.0 in /home/jociano/anaconda3/envs/promopredictor/lib/python3.11/site-packages (from sqlalchemy) (4.11.0)\n",
      "Requirement already satisfied: greenlet!=0.4.17 in /home/jociano/anaconda3/envs/promopredictor/lib/python3.11/site-packages (from sqlalchemy) (3.0.3)\n",
      "Requirement already satisfied: Werkzeug>=3.0.0 in /home/jociano/anaconda3/envs/promopredictor/lib/python3.11/site-packages (from Flask) (3.0.1)\n",
      "Requirement already satisfied: Jinja2>=3.1.2 in /home/jociano/anaconda3/envs/promopredictor/lib/python3.11/site-packages (from Flask) (3.1.3)\n",
      "Requirement already satisfied: itsdangerous>=2.1.2 in /home/jociano/anaconda3/envs/promopredictor/lib/python3.11/site-packages (from Flask) (2.1.2)\n",
      "Requirement already satisfied: click>=8.1.3 in /home/jociano/anaconda3/envs/promopredictor/lib/python3.11/site-packages (from Flask) (8.1.7)\n",
      "Requirement already satisfied: blinker>=1.6.2 in /home/jociano/anaconda3/envs/promopredictor/lib/python3.11/site-packages (from Flask) (1.7.0)\n",
      "Requirement already satisfied: python-dateutil>=2.8.2 in /home/jociano/anaconda3/envs/promopredictor/lib/python3.11/site-packages (from pandas) (2.9.0)\n",
      "Requirement already satisfied: pytz>=2020.1 in /home/jociano/anaconda3/envs/promopredictor/lib/python3.11/site-packages (from pandas) (2023.3.post1)\n",
      "Requirement already satisfied: tzdata>=2022.7 in /home/jociano/anaconda3/envs/promopredictor/lib/python3.11/site-packages (from pandas) (2024.1)\n",
      "Requirement already satisfied: scipy>=1.6.0 in /home/jociano/anaconda3/envs/promopredictor/lib/python3.11/site-packages (from scikit-learn) (1.13.0)\n",
      "Requirement already satisfied: Cython!=0.29.18,!=0.29.31,>=0.29 in /home/jociano/anaconda3/envs/promopredictor/lib/python3.11/site-packages (from pmdarima) (3.0.10)\n",
      "Requirement already satisfied: urllib3 in /home/jociano/anaconda3/envs/promopredictor/lib/python3.11/site-packages (from pmdarima) (2.2.1)\n",
      "Requirement already satisfied: setuptools!=50.0.0,>=38.6.0 in /home/jociano/anaconda3/envs/promopredictor/lib/python3.11/site-packages (from pmdarima) (68.2.2)\n",
      "Requirement already satisfied: packaging>=17.1 in /home/jociano/anaconda3/envs/promopredictor/lib/python3.11/site-packages (from pmdarima) (24.0)\n",
      "Requirement already satisfied: patsy>=0.5.2 in /home/jociano/anaconda3/envs/promopredictor/lib/python3.11/site-packages (from statsmodels) (0.5.3)\n",
      "Requirement already satisfied: MarkupSafe>=2.0 in /home/jociano/anaconda3/envs/promopredictor/lib/python3.11/site-packages (from Jinja2>=3.1.2->Flask) (2.1.5)\n",
      "Requirement already satisfied: six in /home/jociano/anaconda3/envs/promopredictor/lib/python3.11/site-packages (from patsy>=0.5.2->statsmodels) (1.16.0)\n",
      "Note: you may need to restart the kernel to use updated packages.\n"
     ]
    }
   ],
   "source": [
    "pip install mysql.connector mysql-connector-python sqlalchemy Flask pandas joblib numpy scikit-learn pmdarima statsmodels threadpoolctl\n"
   ]
  },
  {
   "cell_type": "code",
   "execution_count": 12,
   "id": "0cb2c83f",
   "metadata": {},
   "outputs": [
    {
     "ename": "ModuleNotFoundError",
     "evalue": "No module named 'src'",
     "output_type": "error",
     "traceback": [
      "\u001b[0;31m---------------------------------------------------------------------------\u001b[0m",
      "\u001b[0;31mModuleNotFoundError\u001b[0m                       Traceback (most recent call last)",
      "Cell \u001b[0;32mIn[12], line 11\u001b[0m\n\u001b[1;32m      8\u001b[0m \u001b[38;5;28;01mfrom\u001b[39;00m \u001b[38;5;21;01msklearn\u001b[39;00m\u001b[38;5;21;01m.\u001b[39;00m\u001b[38;5;21;01mmetrics\u001b[39;00m \u001b[38;5;28;01mimport\u001b[39;00m mean_squared_error\n\u001b[1;32m      9\u001b[0m \u001b[38;5;28;01mfrom\u001b[39;00m \u001b[38;5;21;01mstatsmodels\u001b[39;00m\u001b[38;5;21;01m.\u001b[39;00m\u001b[38;5;21;01mtsa\u001b[39;00m\u001b[38;5;21;01m.\u001b[39;00m\u001b[38;5;21;01marima\u001b[39;00m\u001b[38;5;21;01m.\u001b[39;00m\u001b[38;5;21;01mmodel\u001b[39;00m \u001b[38;5;28;01mimport\u001b[39;00m ARIMA\n\u001b[0;32m---> 11\u001b[0m \u001b[38;5;28;01mimport\u001b[39;00m \u001b[38;5;21;01msrc\u001b[39;00m\u001b[38;5;21;01m.\u001b[39;00m\u001b[38;5;21;01mdata\u001b[39;00m\u001b[38;5;21;01m.\u001b[39;00m\u001b[38;5;21;01mcreate_tables\u001b[39;00m\n\u001b[1;32m     12\u001b[0m \u001b[38;5;28;01mfrom\u001b[39;00m \u001b[38;5;21;01msrc\u001b[39;00m\u001b[38;5;21;01m.\u001b[39;00m\u001b[38;5;21;01mdata\u001b[39;00m\u001b[38;5;21;01m.\u001b[39;00m\u001b[38;5;21;01mdata_cleaner\u001b[39;00m \u001b[38;5;28;01mimport\u001b[39;00m delete_data, update_data, clean_null_values, remove_duplicates, remove_invalid_records, standardize_formatting\n\u001b[1;32m     13\u001b[0m \u001b[38;5;28;01mfrom\u001b[39;00m \u001b[38;5;21;01msrc\u001b[39;00m\u001b[38;5;21;01m.\u001b[39;00m\u001b[38;5;21;01mdata\u001b[39;00m\u001b[38;5;21;01m.\u001b[39;00m\u001b[38;5;21;01mindex_manager\u001b[39;00m \u001b[38;5;28;01mimport\u001b[39;00m create_indexes\n",
      "\u001b[0;31mModuleNotFoundError\u001b[0m: No module named 'src'"
     ]
    }
   ],
   "source": [
    "import mysql.connector\n",
    "from mysql.connector import Error\n",
    "import sqlalchemy\n",
    "import pandas as pd\n",
    "import numpy as np\n",
    "from sklearn.model_selection import train_test_split\n",
    "from sklearn.linear_model import LinearRegression\n",
    "from sklearn.metrics import mean_squared_error\n",
    "from statsmodels.tsa.arima.model import ARIMA\n",
    "\n",
    "from src.data.data_cleaner import delete_data, update_data, clean_null_values, remove_duplicates, remove_invalid_records, standardize_formatting\n",
    "from src.data.index_manager import create_indexes\n",
    "from src.data.promotion_processor import fetch_all_products, process_chunks\n",
    "from src.data.promotion_sales_processor import process_promotions_in_chunks\n",
    "from src.utils.logging_config import get_logger\n",
    "from src.services.database_reset import drop_tables\n",
    "from src.data.outlier_treatment import identify_and_treat_outliers\n",
    "from src.data.data_conversion import convert_data_types\n",
    "from src.data.data_exploration import explore_data\n",
    "from src.models.train_model import train_model\n",
    "from src.models.predict_model import make_prediction\n",
    "from src.services.database import db_manager"
   ]
  },
  {
   "cell_type": "code",
   "execution_count": null,
   "id": "1c1e1b2e",
   "metadata": {},
   "outputs": [],
   "source": [
    "logger = get_logger(__name__)"
   ]
  },
  {
   "cell_type": "code",
   "execution_count": null,
   "id": "b3b85c27",
   "metadata": {},
   "outputs": [],
   "source": [
    "def setup_database():\n",
    "    \"\"\"\n",
    "    Limpa, cria tabelas e índices no banco de dados, se necessário.\n",
    "    \"\"\"\n",
    "    logger.info(\"Iniciando a limpeza do banco de dados...\")\n",
    "    drop_tables()\n",
    "    logger.info(\"Banco de dados limpo com sucesso.\")\n",
    "\n",
    "    logger.info(\"Iniciando a configuração do banco de dados...\")\n",
    "    create_table_if_not_exists()\n",
    "    logger.info(\"Tabelas criadas/atualizadas com sucesso.\")\n",
    "\n",
    "    configure_indexes()\n",
    "    logger.info(\"Índices criados/atualizados com sucesso.\")\n",
    "\n",
    "def configure_indexes():\n",
    "    \"\"\"\n",
    "    Configura os índices nas tabelas de vendas.\n",
    "    \"\"\"\n",
    "    indexes_vendasexport = [\n",
    "        (\"idx_codigo\", \"vendasexport\", \"Codigo\"),\n",
    "        (\"idx_data\", \"vendasexport\", \"Data\"),\n",
    "        (\"idx_codigocliente\", \"vendasexport\", \"CodigoCliente\"),\n",
    "        (\"idx_data_codigocliente\", \"vendasexport\", \"Data, CodigoCliente\"),\n",
    "        (\"idx_totalpedido\", \"vendasexport\", \"TotalPedido\"),\n",
    "    ]\n",
    "    indexes_vendasprodutosexport = [\n",
    "        (\"idx_vendasprodutosexport_codigovenda\", \"vendasprodutosexport\", \"CodigoVenda\"),\n",
    "        (\"idx_vendasprodutosexport_codigoproduto\", \"vendasprodutosexport\", \"CodigoProduto\"),\n",
    "        (\"idx_vendasprodutosexport_codigosecao\", \"vendasprodutosexport\", \"CodigoSecao\"),\n",
    "        (\"idx_vendasprodutosexport_codigogrupo\", \"vendasprodutosexport\", \"CodigoGrupo\"),\n",
    "        (\"idx_vendasprodutosexport_codigosubgrupo\", \"vendasprodutosexport\", \"CodigoSubGrupo\"),\n",
    "        (\"idx_vendasprodutosexport_secaogrupo\", \"vendasprodutosexport\", \"CodigoSecao, CodigoGrupo\"),\n",
    "        (\"idx_vendasprodutosexport_valorunitario\", \"vendasprodutosexport\", \"ValorUnitario\"),\n",
    "        (\"idx_vendasprodutosexport_quantidade\", \"vendasprodutosexport\", \"Quantidade\"),\n",
    "        (\"idx_vendasprodutosexport_desconto\", \"vendasprodutosexport\", \"Desconto\"),\n",
    "        (\"idx_vendasprodutosexport_precoempromocao\", \"vendasprodutosexport\", \"PrecoemPromocao\"),\n",
    "    ]\n",
    "    create_indexes(indexes_vendasprodutosexport + indexes_vendasexport)\n",
    "\n",
    "def clean_and_process_data():\n",
    "    \"\"\"\n",
    "    Limpa e processa os dados nas tabelas de vendas, removendo registros inválidos, duplicados e padronizando formatações.\n",
    "    \"\"\"\n",
    "    logger.info(\"Iniciando a limpeza e processamento dos dados...\")\n",
    "    #remove_invalid_records(\"vendasexport\", [\"TotalPedido <= 0\"])\n",
    "    #remove_invalid_records(\"vendasprodutosexport\", [\"ValorTotal <= 0\", \"Quantidade <= 0\"])\n",
    "\n",
    "    #clean_null_values(\"vendasprodutosexport\", [\"ValorCusto\", \"ValorUnitario\", \"Quantidade\"])\n",
    "    #clean_null_values(\"vendasexport\", [\"TotalPedido\", \"TotalCusto\"])\n",
    "\n",
    "    #remove_duplicates(\"vendasexport\")\n",
    "    #remove_duplicates(\"vendasprodutosexport\")\n",
    "\n",
    "    # Analisar possíveis outliers da vendasexport\n",
    "    #identify_and_treat_outliers(\"vendasprodutosexport\", \"ValorCusto,ValorUnitario\")\n",
    "    \n",
    "    logger.info(\"Limpeza e processamento de dados concluídos com sucesso.\")\n",
    "\n",
    "def process_promotions():\n",
    "    \"\"\"\n",
    "    Processa as promoções identificadas nos produtos.\n",
    "    \"\"\"\n",
    "    logger.info(\"Iniciando o processamento de promoções...\")\n",
    "    products = fetch_all_products()\n",
    "    if not products.empty:\n",
    "        process_chunks(products)\n",
    "    else:\n",
    "        logger.info(\"Nenhum produto para processar.\")\n",
    "    process_promotions_in_chunks()\n",
    "    logger.info(\"Processamento de promoções concluído com sucesso.\")\n",
    "\n",
    "def train_and_test_model():\n",
    "    \"\"\"\n",
    "    Treina o modelo de machine learning e realiza uma predição de teste.\n",
    "    \"\"\"\n",
    "    logger.info(\"Iniciando o treinamento do modelo...\")\n",
    "    train_model()\n",
    "    logger.info(\"Treinamento concluído com sucesso.\")\n",
    "\n",
    "    logger.info(\"Realizando uma predição de teste...\")\n",
    "    make_prediction()\n",
    "    logger.info(\"Predição de teste concluída.\")"
   ]
  },
  {
   "cell_type": "code",
   "execution_count": null,
   "id": "aaf4525c",
   "metadata": {},
   "outputs": [],
   "source": [
    "def main():\n",
    "    logger.info(\"Iniciando o processo de inicialização do projeto...\")\n",
    "    setup_database()\n",
    "    clean_and_process_data()\n",
    "    process_promotions()\n",
    "    train_and_test_model()\n",
    "    logger.info(\"Processo de inicialização do projeto concluído com sucesso.\")\n"
   ]
  }
 ],
 "metadata": {
  "kernelspec": {
   "display_name": "promopredictor",
   "language": "python",
   "name": "python3"
  },
  "language_info": {
   "codemirror_mode": {
    "name": "ipython",
    "version": 3
   },
   "file_extension": ".py",
   "mimetype": "text/x-python",
   "name": "python",
   "nbconvert_exporter": "python",
   "pygments_lexer": "ipython3",
   "version": "3.11.8"
  }
 },
 "nbformat": 4,
 "nbformat_minor": 5
}
