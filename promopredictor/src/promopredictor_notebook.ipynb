{
 "cells": [
  {
   "cell_type": "markdown",
   "id": "75d5a97f",
   "metadata": {},
   "source": [
    "# Projeto Data Science e IA\n",
    "Este notebook foi gerado automaticamente para integrar o projeto Python com todas as dependências e funcionalidades necessárias para executar diretamente em um ambiente Jupyter.\n"
   ]
  },
  {
   "cell_type": "code",
   "execution_count": 8,
   "id": "5947b254",
   "metadata": {},
   "outputs": [
    {
     "name": "stdout",
     "output_type": "stream",
     "text": [
      "Requirement already satisfied: mysql.connector in /home/jociano/anaconda3/envs/promopredictor/lib/python3.11/site-packages (2.2.9)\n",
      "Requirement already satisfied: mysql-connector-python in /home/jociano/anaconda3/envs/promopredictor/lib/python3.11/site-packages (8.3.0)\n",
      "Requirement already satisfied: sqlalchemy in /home/jociano/anaconda3/envs/promopredictor/lib/python3.11/site-packages (2.0.29)\n",
      "Requirement already satisfied: Flask in /home/jociano/anaconda3/envs/promopredictor/lib/python3.11/site-packages (3.0.2)\n",
      "Requirement already satisfied: pandas in /home/jociano/anaconda3/envs/promopredictor/lib/python3.11/site-packages (2.2.2)\n",
      "Requirement already satisfied: joblib in /home/jociano/anaconda3/envs/promopredictor/lib/python3.11/site-packages (1.4.0)\n",
      "Requirement already satisfied: numpy in /home/jociano/anaconda3/envs/promopredictor/lib/python3.11/site-packages (1.26.4)\n",
      "Requirement already satisfied: scikit-learn in /home/jociano/anaconda3/envs/promopredictor/lib/python3.11/site-packages (1.4.2)\n",
      "Requirement already satisfied: pmdarima in /home/jociano/anaconda3/envs/promopredictor/lib/python3.11/site-packages (2.0.4)\n",
      "Requirement already satisfied: statsmodels in /home/jociano/anaconda3/envs/promopredictor/lib/python3.11/site-packages (0.14.0)\n",
      "Requirement already satisfied: threadpoolctl in /home/jociano/anaconda3/envs/promopredictor/lib/python3.11/site-packages (3.4.0)\n",
      "Requirement already satisfied: typing-extensions>=4.6.0 in /home/jociano/anaconda3/envs/promopredictor/lib/python3.11/site-packages (from sqlalchemy) (4.11.0)\n",
      "Requirement already satisfied: greenlet!=0.4.17 in /home/jociano/anaconda3/envs/promopredictor/lib/python3.11/site-packages (from sqlalchemy) (3.0.3)\n",
      "Requirement already satisfied: Werkzeug>=3.0.0 in /home/jociano/anaconda3/envs/promopredictor/lib/python3.11/site-packages (from Flask) (3.0.1)\n",
      "Requirement already satisfied: Jinja2>=3.1.2 in /home/jociano/anaconda3/envs/promopredictor/lib/python3.11/site-packages (from Flask) (3.1.3)\n",
      "Requirement already satisfied: itsdangerous>=2.1.2 in /home/jociano/anaconda3/envs/promopredictor/lib/python3.11/site-packages (from Flask) (2.1.2)\n",
      "Requirement already satisfied: click>=8.1.3 in /home/jociano/anaconda3/envs/promopredictor/lib/python3.11/site-packages (from Flask) (8.1.7)\n",
      "Requirement already satisfied: blinker>=1.6.2 in /home/jociano/anaconda3/envs/promopredictor/lib/python3.11/site-packages (from Flask) (1.7.0)\n",
      "Requirement already satisfied: python-dateutil>=2.8.2 in /home/jociano/anaconda3/envs/promopredictor/lib/python3.11/site-packages (from pandas) (2.9.0)\n",
      "Requirement already satisfied: pytz>=2020.1 in /home/jociano/anaconda3/envs/promopredictor/lib/python3.11/site-packages (from pandas) (2023.3.post1)\n",
      "Requirement already satisfied: tzdata>=2022.7 in /home/jociano/anaconda3/envs/promopredictor/lib/python3.11/site-packages (from pandas) (2024.1)\n",
      "Requirement already satisfied: scipy>=1.6.0 in /home/jociano/anaconda3/envs/promopredictor/lib/python3.11/site-packages (from scikit-learn) (1.13.0)\n",
      "Requirement already satisfied: Cython!=0.29.18,!=0.29.31,>=0.29 in /home/jociano/anaconda3/envs/promopredictor/lib/python3.11/site-packages (from pmdarima) (3.0.10)\n",
      "Requirement already satisfied: urllib3 in /home/jociano/anaconda3/envs/promopredictor/lib/python3.11/site-packages (from pmdarima) (2.2.1)\n",
      "Requirement already satisfied: setuptools!=50.0.0,>=38.6.0 in /home/jociano/anaconda3/envs/promopredictor/lib/python3.11/site-packages (from pmdarima) (68.2.2)\n",
      "Requirement already satisfied: packaging>=17.1 in /home/jociano/anaconda3/envs/promopredictor/lib/python3.11/site-packages (from pmdarima) (24.0)\n",
      "Requirement already satisfied: patsy>=0.5.2 in /home/jociano/anaconda3/envs/promopredictor/lib/python3.11/site-packages (from statsmodels) (0.5.3)\n",
      "Requirement already satisfied: MarkupSafe>=2.0 in /home/jociano/anaconda3/envs/promopredictor/lib/python3.11/site-packages (from Jinja2>=3.1.2->Flask) (2.1.5)\n",
      "Requirement already satisfied: six in /home/jociano/anaconda3/envs/promopredictor/lib/python3.11/site-packages (from patsy>=0.5.2->statsmodels) (1.16.0)\n",
      "Note: you may need to restart the kernel to use updated packages.\n"
     ]
    }
   ],
   "source": [
    "pip install mysql.connector mysql-connector-python sqlalchemy Flask pandas joblib numpy scikit-learn pmdarima statsmodels threadpoolctl\n"
   ]
  },
  {
   "cell_type": "code",
   "execution_count": 3,
   "id": "00b55b4a",
   "metadata": {},
   "outputs": [],
   "source": [
    "import os\n",
    "import sys\n",
    "\n",
    "def setup_notebook_environment():\n",
    "    \"\"\"\n",
    "    Configura o ambiente do notebook para importar corretamente os módulos do projeto.\n",
    "    \"\"\"\n",
    "\n",
    "    # Importe os módulos necessários\n",
    "    from services.database import db_manager\n",
    "    from utils.logging_config import get_logger\n",
    "    from data.create_tables import create_table_if_not_exists\n",
    "    from data.data_cleaner import delete_data, update_data, clean_null_values, remove_duplicates, remove_invalid_records, standardize_formatting\n",
    "    from data.index_manager import create_indexes\n",
    "    from data.promotion_processor import fetch_all_products, process_chunks\n",
    "    from data.promotion_sales_processor import process_promotions_in_chunks\n",
    "    from services.database_reset import drop_tables\n",
    "    from data.outlier_treatment import identify_and_treat_outliers\n",
    "    from data.data_conversion import convert_data_types\n",
    "    from data.data_exploration import explore_data\n",
    "    from models.train_model import train_model\n",
    "    from models.predict_model import make_prediction\n",
    "\n",
    "    # Conecte-se ao banco de dados\n",
    "    db_manager.connect_to_db()\n",
    "\n",
    "    # Configure o logger\n",
    "    logger = get_logger(__name__)\n",
    "\n",
    "    print(\"Ambiente do notebook configurado com sucesso.\")"
   ]
  },
  {
   "cell_type": "code",
   "execution_count": 4,
   "id": "405f8a5d",
   "metadata": {},
   "outputs": [
    {
     "ename": "ModuleNotFoundError",
     "evalue": "No module named 'src'",
     "output_type": "error",
     "traceback": [
      "\u001b[0;31m---------------------------------------------------------------------------\u001b[0m",
      "\u001b[0;31mModuleNotFoundError\u001b[0m                       Traceback (most recent call last)",
      "Cell \u001b[0;32mIn[4], line 2\u001b[0m\n\u001b[1;32m      1\u001b[0m \u001b[38;5;66;03m# Chame a função para configurar o ambiente\u001b[39;00m\n\u001b[0;32m----> 2\u001b[0m \u001b[43msetup_notebook_environment\u001b[49m\u001b[43m(\u001b[49m\u001b[43m)\u001b[49m\n",
      "Cell \u001b[0;32mIn[3], line 10\u001b[0m, in \u001b[0;36msetup_notebook_environment\u001b[0;34m()\u001b[0m\n\u001b[1;32m      5\u001b[0m \u001b[38;5;250m\u001b[39m\u001b[38;5;124;03m\"\"\"\u001b[39;00m\n\u001b[1;32m      6\u001b[0m \u001b[38;5;124;03mConfigura o ambiente do notebook para importar corretamente os módulos do projeto.\u001b[39;00m\n\u001b[1;32m      7\u001b[0m \u001b[38;5;124;03m\"\"\"\u001b[39;00m\n\u001b[1;32m      9\u001b[0m \u001b[38;5;66;03m# Importe os módulos necessários\u001b[39;00m\n\u001b[0;32m---> 10\u001b[0m \u001b[38;5;28;01mfrom\u001b[39;00m \u001b[38;5;21;01mservices\u001b[39;00m\u001b[38;5;21;01m.\u001b[39;00m\u001b[38;5;21;01mdatabase\u001b[39;00m \u001b[38;5;28;01mimport\u001b[39;00m db_manager\n\u001b[1;32m     11\u001b[0m \u001b[38;5;28;01mfrom\u001b[39;00m \u001b[38;5;21;01mutils\u001b[39;00m\u001b[38;5;21;01m.\u001b[39;00m\u001b[38;5;21;01mlogging_config\u001b[39;00m \u001b[38;5;28;01mimport\u001b[39;00m get_logger\n\u001b[1;32m     12\u001b[0m \u001b[38;5;28;01mfrom\u001b[39;00m \u001b[38;5;21;01mdata\u001b[39;00m\u001b[38;5;21;01m.\u001b[39;00m\u001b[38;5;21;01mcreate_tables\u001b[39;00m \u001b[38;5;28;01mimport\u001b[39;00m create_table_if_not_exists\n",
      "File \u001b[0;32m~/Projects/promopredictor/promopredictor/src/services/database.py:1\u001b[0m\n\u001b[0;32m----> 1\u001b[0m \u001b[38;5;28;01mfrom\u001b[39;00m \u001b[38;5;21;01msrc\u001b[39;00m\u001b[38;5;21;01m.\u001b[39;00m\u001b[38;5;21;01mservices\u001b[39;00m\u001b[38;5;21;01m.\u001b[39;00m\u001b[38;5;21;01mdatabase_manager\u001b[39;00m \u001b[38;5;28;01mimport\u001b[39;00m DatabaseManager\n\u001b[1;32m      3\u001b[0m db_manager \u001b[38;5;241m=\u001b[39m DatabaseManager()\n",
      "\u001b[0;31mModuleNotFoundError\u001b[0m: No module named 'src'"
     ]
    }
   ],
   "source": [
    "# Chame a função para configurar o ambiente\n",
    "setup_notebook_environment()"
   ]
  }
 ],
 "metadata": {
  "kernelspec": {
   "display_name": "promopredictor",
   "language": "python",
   "name": "python3"
  },
  "language_info": {
   "codemirror_mode": {
    "name": "ipython",
    "version": 3
   },
   "file_extension": ".py",
   "mimetype": "text/x-python",
   "name": "python",
   "nbconvert_exporter": "python",
   "pygments_lexer": "ipython3",
   "version": "3.11.8"
  }
 },
 "nbformat": 4,
 "nbformat_minor": 5
}
